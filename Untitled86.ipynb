{
  "nbformat": 4,
  "nbformat_minor": 0,
  "metadata": {
    "colab": {
      "name": "Untitled86.ipynb",
      "provenance": [],
      "collapsed_sections": []
    },
    "kernelspec": {
      "name": "python3",
      "display_name": "Python 3"
    }
  },
  "cells": [
    {
      "cell_type": "code",
      "metadata": {
        "id": "aWwAMrCd48lG"
      },
      "source": [
        "import pandas as pd\n",
        "import numpy as np \n",
        "import matplotlib.pyplot as plt\n",
        "import tensorflow as tf\n",
        "import csv\n"
      ],
      "execution_count": null,
      "outputs": []
    },
    {
      "cell_type": "code",
      "metadata": {
        "colab": {
          "base_uri": "https://localhost:8080/",
          "height": 204
        },
        "id": "WlsH4UaSjLoi",
        "outputId": "760f8bcd-4b07-44b3-d2e8-72d7877ff37c"
      },
      "source": [
        "df = pd.read_csv(\"/content/Occupancy_train.csv\")\n",
        "df.head()"
      ],
      "execution_count": null,
      "outputs": [
        {
          "output_type": "execute_result",
          "data": {
            "text/html": [
              "<div>\n",
              "<style scoped>\n",
              "    .dataframe tbody tr th:only-of-type {\n",
              "        vertical-align: middle;\n",
              "    }\n",
              "\n",
              "    .dataframe tbody tr th {\n",
              "        vertical-align: top;\n",
              "    }\n",
              "\n",
              "    .dataframe thead th {\n",
              "        text-align: right;\n",
              "    }\n",
              "</style>\n",
              "<table border=\"1\" class=\"dataframe\">\n",
              "  <thead>\n",
              "    <tr style=\"text-align: right;\">\n",
              "      <th></th>\n",
              "      <th>Unnamed: 0</th>\n",
              "      <th>Time</th>\n",
              "      <th>Total Occupancy rate (percent)</th>\n",
              "    </tr>\n",
              "  </thead>\n",
              "  <tbody>\n",
              "    <tr>\n",
              "      <th>0</th>\n",
              "      <td>0</td>\n",
              "      <td>1999M01</td>\n",
              "      <td>43.7</td>\n",
              "    </tr>\n",
              "    <tr>\n",
              "      <th>1</th>\n",
              "      <td>1</td>\n",
              "      <td>1999M02</td>\n",
              "      <td>41.0</td>\n",
              "    </tr>\n",
              "    <tr>\n",
              "      <th>2</th>\n",
              "      <td>2</td>\n",
              "      <td>1999M03</td>\n",
              "      <td>36.5</td>\n",
              "    </tr>\n",
              "    <tr>\n",
              "      <th>3</th>\n",
              "      <td>3</td>\n",
              "      <td>1999M04</td>\n",
              "      <td>32.8</td>\n",
              "    </tr>\n",
              "    <tr>\n",
              "      <th>4</th>\n",
              "      <td>4</td>\n",
              "      <td>1999M05</td>\n",
              "      <td>24.5</td>\n",
              "    </tr>\n",
              "  </tbody>\n",
              "</table>\n",
              "</div>"
            ],
            "text/plain": [
              "   Unnamed: 0     Time  Total Occupancy rate (percent)\n",
              "0           0  1999M01                            43.7\n",
              "1           1  1999M02                            41.0\n",
              "2           2  1999M03                            36.5\n",
              "3           3  1999M04                            32.8\n",
              "4           4  1999M05                            24.5"
            ]
          },
          "metadata": {
            "tags": []
          },
          "execution_count": 61
        }
      ]
    },
    {
      "cell_type": "code",
      "metadata": {
        "id": "8NnQnZ4ijNTo"
      },
      "source": [
        "\n",
        "sunspots =[]\n",
        "timesteps = []\n",
        "with open(\"/content/Occupancy_train.csv\") as csv_file:\n",
        "  reader = csv.reader(csv_file,delimiter = ',')\n",
        "  next(reader)\n",
        "  for row in reader:\n",
        "    sunspots.append(float(row[2]))\n",
        "    timesteps.append(int(row[0]))"
      ],
      "execution_count": null,
      "outputs": []
    },
    {
      "cell_type": "code",
      "metadata": {
        "id": "i_SqKCF-kZNv"
      },
      "source": [
        "time = np.array(timesteps)\n",
        "series = np.array(sunspots)"
      ],
      "execution_count": null,
      "outputs": []
    },
    {
      "cell_type": "code",
      "metadata": {
        "id": "9iaft9mwkefX"
      },
      "source": [
        "def plot_series(time,series,format='-',start=0,end=None):\n",
        "  plt.plot(time[start:end],series[start:end],format)\n",
        "  plt.xlabel('Time')\n",
        "  plt.ylabel('Values')\n",
        "  plt.grid(False)"
      ],
      "execution_count": null,
      "outputs": []
    },
    {
      "cell_type": "code",
      "metadata": {
        "id": "8qYRrRLYqeBb"
      },
      "source": [
        "split_time = 130\n",
        "time_train = time[:split_time]\n",
        "time_test = time[split_time:]\n",
        "x_train = series[:split_time]\n",
        "x_test = series[split_time:]"
      ],
      "execution_count": null,
      "outputs": []
    },
    {
      "cell_type": "code",
      "metadata": {
        "colab": {
          "base_uri": "https://localhost:8080/",
          "height": 279
        },
        "id": "xwoY6QGOkwR4",
        "outputId": "5d99262f-5327-4fcb-96b6-6c77a15d187c"
      },
      "source": [
        "plot_series(time,series)\n",
        "window_size = 5\n",
        "batch_size=12\n",
        "shuffle_buffer_size=100"
      ],
      "execution_count": null,
      "outputs": [
        {
          "output_type": "display_data",
          "data": {
            "image/png": "[encoded data removed]",
            "text/plain": [
              "<Figure size 432x288 with 1 Axes>"
            ]
          },
          "metadata": {
            "tags": [],
            "needs_background": "light"
          }
        }
      ]
    },
    {
      "cell_type": "code",
      "metadata": {
        "id": "AQFtldT1qToZ"
      },
      "source": [
        "def windowed_dataset(series,window_size,batch_size,shuffle_buffer):\n",
        "  series= tf.expand_dims(series,axis=-1)\n",
        "  dataset = tf.data.Dataset.from_tensor_slices(series)\n",
        "  dataset = dataset.window(window_size+1,shift=1,drop_remainder =True)\n",
        "  dataset = dataset.flat_map(lambda window: window.batch(window_size+1))\n",
        "  dataset = dataset.shuffle(shuffle_buffer).map(lambda window: (window[:-1],window[-1]))\n",
        "  dataset = dataset.batch(batch_size).prefetch(-1)\n",
        "  return dataset"
      ],
      "execution_count": null,
      "outputs": []
    },
    {
      "cell_type": "code",
      "metadata": {
        "id": "4B6k6mR0rXts"
      },
      "source": [
        "def model_forecast(model,series,window_size):\n",
        "  dataset = tf.data.Dataset.from_tensor_slices(series)\n",
        "  dataset= dataset.window(window_size,shift =1,drop_remainder=True)\n",
        "  dataset= dataset.flat_map(lambda window: window.batch(window_size))\n",
        "  dataset = dataset.batch(32).prefetch(-1)\n",
        "  forecast = model.predict(dataset)\n",
        "  return forecast"
      ],
      "execution_count": null,
      "outputs": []
    },
    {
      "cell_type": "code",
      "metadata": {
        "id": "Tzqby-24r06i"
      },
      "source": [
        "dataset =windowed_dataset(x_train,window_size=window_size,batch_size=batch_size,shuffle_buffer=shuffle_buffer_size)"
      ],
      "execution_count": null,
      "outputs": []
    },
    {
      "cell_type": "code",
      "metadata": {
        "id": "LNqo1j1VsYQg"
      },
      "source": [
        "model = tf.keras.models.Sequential([\n",
        "                                    tf.keras.layers.Conv1D(filters=150,kernel_size=5,strides=1,padding='causal',activation='relu',input_shape=[None,1]),\n",
        "                                    tf.keras.layers.Bidirectional(tf.keras.layers.LSTM(20,return_sequences=True)),\n",
        "                                    tf.keras.layers.Bidirectional(tf.keras.layers.LSTM(20,return_sequences=True)),\n",
        "                                    tf.keras.layers.Dense(30,activation='relu'),\n",
        "                                    tf.keras.layers.Dense(10,activation = 'relu'),\n",
        "                                    tf.keras.layers.Dense(1),\n",
        "                                    tf.keras.layers.Lambda(lambda x : x*400)\n",
        "])"
      ],
      "execution_count": null,
      "outputs": []
    },
    {
      "cell_type": "code",
      "metadata": {
        "id": "ZQtD9KgytgtO"
      },
      "source": [
        "lr_scheduler =tf.keras.callbacks.LearningRateScheduler(lambda epochs: 1e-8*10**(epochs/20))\n",
        "model.compile(loss= tf.keras.losses.Huber(),optimizer = tf.keras.optimizers.SGD(lr=1e-8,momentum=0.9),metrics=['mae'])"
      ],
      "execution_count": null,
      "outputs": []
    },
    {
      "cell_type": "code",
      "metadata": {
        "colab": {
          "base_uri": "https://localhost:8080/"
        },
        "id": "tNELicLAv3k0",
        "outputId": "4c198d1d-dbd6-4dd2-ee65-1b5405f8d399"
      },
      "source": [
        "history =model.fit(dataset,epochs=100,callbacks=[lr_scheduler])"
      ],
      "execution_count": null,
      "outputs": [
        {
          "output_type": "stream",
          "text": [
            "Epoch 1/100\n",
            "11/11 [==============================] - 0s 8ms/step - loss: 11.9641 - mae: 12.4548\n",
            "Epoch 2/100\n",
            "11/11 [==============================] - 0s 7ms/step - loss: 11.8067 - mae: 12.2995\n",
            "Epoch 3/100\n",
            "11/11 [==============================] - 0s 8ms/step - loss: 11.5994 - mae: 12.0927\n",
            "Epoch 4/100\n",
            "11/11 [==============================] - 0s 7ms/step - loss: 11.3699 - mae: 11.8624\n",
            "Epoch 5/100\n",
            "11/11 [==============================] - 0s 9ms/step - loss: 11.1261 - mae: 11.6193\n",
            "Epoch 6/100\n",
            "11/11 [==============================] - 0s 8ms/step - loss: 10.8882 - mae: 11.3814\n",
            "Epoch 7/100\n",
            "11/11 [==============================] - 0s 8ms/step - loss: 10.6382 - mae: 11.1299\n",
            "Epoch 8/100\n",
            "11/11 [==============================] - 0s 8ms/step - loss: 10.3696 - mae: 10.8595\n",
            "Epoch 9/100\n",
            "11/11 [==============================] - 0s 7ms/step - loss: 10.0744 - mae: 10.5644\n",
            "Epoch 10/100\n",
            "11/11 [==============================] - 0s 8ms/step - loss: 9.7504 - mae: 10.2417\n",
            "Epoch 11/100\n",
            "11/11 [==============================] - 0s 8ms/step - loss: 9.4076 - mae: 9.8989\n",
            "Epoch 12/100\n",
            "11/11 [==============================] - 0s 8ms/step - loss: 9.0221 - mae: 9.5128\n",
            "Epoch 13/100\n",
            "11/11 [==============================] - 0s 8ms/step - loss: 8.6122 - mae: 9.0964\n",
            "Epoch 14/100\n",
            "11/11 [==============================] - 0s 8ms/step - loss: 8.1896 - mae: 8.6770\n",
            "Epoch 15/100\n",
            "11/11 [==============================] - 0s 8ms/step - loss: 7.7476 - mae: 8.2318\n",
            "Epoch 16/100\n",
            "11/11 [==============================] - 0s 8ms/step - loss: 7.3296 - mae: 7.8119\n",
            "Epoch 17/100\n",
            "11/11 [==============================] - 0s 8ms/step - loss: 6.9386 - mae: 7.4187\n",
            "Epoch 18/100\n",
            "11/11 [==============================] - 0s 8ms/step - loss: 6.5231 - mae: 7.0020\n",
            "Epoch 19/100\n",
            "11/11 [==============================] - 0s 8ms/step - loss: 6.2077 - mae: 6.6881\n",
            "Epoch 20/100\n",
            "11/11 [==============================] - 0s 8ms/step - loss: 5.7869 - mae: 6.2613\n",
            "Epoch 21/100\n",
            "11/11 [==============================] - 0s 8ms/step - loss: 5.5222 - mae: 6.0013\n",
            "Epoch 22/100\n",
            "11/11 [==============================] - 0s 8ms/step - loss: 5.2083 - mae: 5.6865\n",
            "Epoch 23/100\n",
            "11/11 [==============================] - 0s 8ms/step - loss: 4.8639 - mae: 5.3465\n",
            "Epoch 24/100\n",
            "11/11 [==============================] - 0s 8ms/step - loss: 4.5627 - mae: 5.0408\n",
            "Epoch 25/100\n",
            "11/11 [==============================] - 0s 8ms/step - loss: 4.2665 - mae: 4.7343\n",
            "Epoch 26/100\n",
            "11/11 [==============================] - 0s 8ms/step - loss: 4.0135 - mae: 4.4863\n",
            "Epoch 27/100\n",
            "11/11 [==============================] - 0s 8ms/step - loss: 3.8454 - mae: 4.3143\n",
            "Epoch 28/100\n",
            "11/11 [==============================] - 0s 8ms/step - loss: 3.7480 - mae: 4.2145\n",
            "Epoch 29/100\n",
            "11/11 [==============================] - 0s 8ms/step - loss: 3.4719 - mae: 3.9413\n",
            "Epoch 30/100\n",
            "11/11 [==============================] - 0s 8ms/step - loss: 3.2858 - mae: 3.7523\n",
            "Epoch 31/100\n",
            "11/11 [==============================] - 0s 8ms/step - loss: 3.1598 - mae: 3.6246\n",
            "Epoch 32/100\n",
            "11/11 [==============================] - 0s 8ms/step - loss: 3.1240 - mae: 3.5937\n",
            "Epoch 33/100\n",
            "11/11 [==============================] - 0s 7ms/step - loss: 2.9566 - mae: 3.4268\n",
            "Epoch 34/100\n",
            "11/11 [==============================] - 0s 8ms/step - loss: 2.8247 - mae: 3.2903\n",
            "Epoch 35/100\n",
            "11/11 [==============================] - 0s 8ms/step - loss: 2.9572 - mae: 3.4182\n",
            "Epoch 36/100\n",
            "11/11 [==============================] - 0s 8ms/step - loss: 2.9167 - mae: 3.3813\n",
            "Epoch 37/100\n",
            "11/11 [==============================] - 0s 9ms/step - loss: 2.6234 - mae: 3.0864\n",
            "Epoch 38/100\n",
            "11/11 [==============================] - 0s 8ms/step - loss: 2.4412 - mae: 2.9017\n",
            "Epoch 39/100\n",
            "11/11 [==============================] - 0s 8ms/step - loss: 2.2727 - mae: 2.7275\n",
            "Epoch 40/100\n",
            "11/11 [==============================] - 0s 8ms/step - loss: 2.5142 - mae: 2.9805\n",
            "Epoch 41/100\n",
            "11/11 [==============================] - 0s 8ms/step - loss: 2.4955 - mae: 2.9539\n",
            "Epoch 42/100\n",
            "11/11 [==============================] - 0s 8ms/step - loss: 2.8788 - mae: 3.3464\n",
            "Epoch 43/100\n",
            "11/11 [==============================] - 0s 8ms/step - loss: 2.7112 - mae: 3.1818\n",
            "Epoch 44/100\n",
            "11/11 [==============================] - 0s 8ms/step - loss: 2.6158 - mae: 3.0818\n",
            "Epoch 45/100\n",
            "11/11 [==============================] - 0s 8ms/step - loss: 2.6826 - mae: 3.1447\n",
            "Epoch 46/100\n",
            "11/11 [==============================] - 0s 8ms/step - loss: 3.1418 - mae: 3.6165\n",
            "Epoch 47/100\n",
            "11/11 [==============================] - 0s 8ms/step - loss: 3.6996 - mae: 4.1823\n",
            "Epoch 48/100\n",
            "11/11 [==============================] - 0s 7ms/step - loss: 3.6290 - mae: 4.1084\n",
            "Epoch 49/100\n",
            "11/11 [==============================] - 0s 8ms/step - loss: 6.3641 - mae: 6.8497\n",
            "Epoch 50/100\n",
            "11/11 [==============================] - 0s 8ms/step - loss: 4.9451 - mae: 5.4292\n",
            "Epoch 51/100\n",
            "11/11 [==============================] - 0s 8ms/step - loss: 4.6786 - mae: 5.1578\n",
            "Epoch 52/100\n",
            "11/11 [==============================] - 0s 8ms/step - loss: 2.6662 - mae: 3.1340\n",
            "Epoch 53/100\n",
            "11/11 [==============================] - 0s 8ms/step - loss: 2.7149 - mae: 3.1771\n",
            "Epoch 54/100\n",
            "11/11 [==============================] - 0s 8ms/step - loss: 2.4760 - mae: 2.9343\n",
            "Epoch 55/100\n",
            "11/11 [==============================] - 0s 8ms/step - loss: 4.4027 - mae: 4.8799\n",
            "Epoch 56/100\n",
            "11/11 [==============================] - 0s 8ms/step - loss: 5.3489 - mae: 5.8354\n",
            "Epoch 57/100\n",
            "11/11 [==============================] - 0s 8ms/step - loss: 5.5413 - mae: 6.0226\n",
            "Epoch 58/100\n",
            "11/11 [==============================] - 0s 8ms/step - loss: 3.9643 - mae: 4.4430\n",
            "Epoch 59/100\n",
            "11/11 [==============================] - 0s 8ms/step - loss: 5.1707 - mae: 5.6588\n",
            "Epoch 60/100\n",
            "11/11 [==============================] - 0s 8ms/step - loss: 3.3667 - mae: 3.8334\n",
            "Epoch 61/100\n",
            "11/11 [==============================] - 0s 8ms/step - loss: 3.1161 - mae: 3.5875\n",
            "Epoch 62/100\n",
            "11/11 [==============================] - 0s 8ms/step - loss: 4.3251 - mae: 4.7992\n",
            "Epoch 63/100\n",
            "11/11 [==============================] - 0s 9ms/step - loss: 2.8189 - mae: 3.2883\n",
            "Epoch 64/100\n",
            "11/11 [==============================] - 0s 8ms/step - loss: 4.6073 - mae: 5.0937\n",
            "Epoch 65/100\n",
            "11/11 [==============================] - 0s 8ms/step - loss: 6.2573 - mae: 6.7426\n",
            "Epoch 66/100\n",
            "11/11 [==============================] - 0s 8ms/step - loss: 5.8194 - mae: 6.3022\n",
            "Epoch 67/100\n",
            "11/11 [==============================] - 0s 8ms/step - loss: 3.2430 - mae: 3.7114\n",
            "Epoch 68/100\n",
            "11/11 [==============================] - 0s 8ms/step - loss: 3.7857 - mae: 4.2514\n",
            "Epoch 69/100\n",
            "11/11 [==============================] - 0s 8ms/step - loss: 4.0474 - mae: 4.5201\n",
            "Epoch 70/100\n",
            "11/11 [==============================] - 0s 8ms/step - loss: 12.7976 - mae: 13.2907\n",
            "Epoch 71/100\n",
            "11/11 [==============================] - 0s 10ms/step - loss: 7.5722 - mae: 8.0591\n",
            "Epoch 72/100\n",
            "11/11 [==============================] - 0s 8ms/step - loss: 5.1380 - mae: 5.6164\n",
            "Epoch 73/100\n",
            "11/11 [==============================] - 0s 8ms/step - loss: 6.1544 - mae: 6.6319\n",
            "Epoch 74/100\n",
            "11/11 [==============================] - 0s 8ms/step - loss: 7.1852 - mae: 7.6656\n",
            "Epoch 75/100\n",
            "11/11 [==============================] - 0s 8ms/step - loss: 7.7185 - mae: 8.2085\n",
            "Epoch 76/100\n",
            "11/11 [==============================] - 0s 8ms/step - loss: 11.1961 - mae: 11.6901\n",
            "Epoch 77/100\n",
            "11/11 [==============================] - 0s 8ms/step - loss: 6.2721 - mae: 6.7586\n",
            "Epoch 78/100\n",
            "11/11 [==============================] - 0s 8ms/step - loss: 7.7929 - mae: 8.2805\n",
            "Epoch 79/100\n",
            "11/11 [==============================] - 0s 9ms/step - loss: 6.6139 - mae: 7.0994\n",
            "Epoch 80/100\n",
            "11/11 [==============================] - 0s 8ms/step - loss: 5.9830 - mae: 6.4683\n",
            "Epoch 81/100\n",
            "11/11 [==============================] - 0s 8ms/step - loss: 11.6454 - mae: 12.1367\n",
            "Epoch 82/100\n",
            "11/11 [==============================] - 0s 8ms/step - loss: 19.2166 - mae: 19.7133\n",
            "Epoch 83/100\n",
            "11/11 [==============================] - 0s 8ms/step - loss: 7.5838 - mae: 8.0743\n",
            "Epoch 84/100\n",
            "11/11 [==============================] - 0s 8ms/step - loss: 11.0706 - mae: 11.5627\n",
            "Epoch 85/100\n",
            "11/11 [==============================] - 0s 8ms/step - loss: 23.1935 - mae: 23.6919\n",
            "Epoch 86/100\n",
            "11/11 [==============================] - 0s 8ms/step - loss: 13.2429 - mae: 13.7376\n",
            "Epoch 87/100\n",
            "11/11 [==============================] - 0s 8ms/step - loss: 12.8443 - mae: 13.3377\n",
            "Epoch 88/100\n",
            "11/11 [==============================] - 0s 9ms/step - loss: 15.9667 - mae: 16.4658\n",
            "Epoch 89/100\n",
            "11/11 [==============================] - 0s 8ms/step - loss: 10.6825 - mae: 11.1775\n",
            "Epoch 90/100\n",
            "11/11 [==============================] - 0s 9ms/step - loss: 43.4736 - mae: 43.9736\n",
            "Epoch 91/100\n",
            "11/11 [==============================] - 0s 8ms/step - loss: 29.2927 - mae: 29.7927\n",
            "Epoch 92/100\n",
            "11/11 [==============================] - 0s 8ms/step - loss: 28.7810 - mae: 29.2810\n",
            "Epoch 93/100\n",
            "11/11 [==============================] - 0s 7ms/step - loss: 33.5269 - mae: 34.0269\n",
            "Epoch 94/100\n",
            "11/11 [==============================] - 0s 8ms/step - loss: 56.8547 - mae: 57.3525\n",
            "Epoch 95/100\n",
            "11/11 [==============================] - 0s 8ms/step - loss: 62.1224 - mae: 62.6224\n",
            "Epoch 96/100\n",
            "11/11 [==============================] - 0s 9ms/step - loss: 69.3225 - mae: 69.8225\n",
            "Epoch 97/100\n",
            "11/11 [==============================] - 0s 8ms/step - loss: 74.7419 - mae: 75.2419\n",
            "Epoch 98/100\n",
            "11/11 [==============================] - 0s 8ms/step - loss: 111.9405 - mae: 112.4405\n",
            "Epoch 99/100\n",
            "11/11 [==============================] - 0s 8ms/step - loss: 84.9578 - mae: 85.4578\n",
            "Epoch 100/100\n",
            "11/11 [==============================] - 0s 9ms/step - loss: 123.9220 - mae: 124.4220\n"
          ],
          "name": "stdout"
        }
      ]
    },
    {
      "cell_type": "code",
      "metadata": {
        "colab": {
          "base_uri": "https://localhost:8080/",
          "height": 286
        },
        "id": "4-edye2Yv7A9",
        "outputId": "c8d99447-9700-44c2-fd85-411f6355e8bc"
      },
      "source": [
        "plt.semilogx(history.history['lr'],history.history['loss'])"
      ],
      "execution_count": null,
      "outputs": [
        {
          "output_type": "execute_result",
          "data": {
            "text/plain": [
              "[<matplotlib.lines.Line2D at 0x7fb189a079e8>]"
            ]
          },
          "metadata": {
            "tags": []
          },
          "execution_count": 73
        },
        {
          "output_type": "display_data",
          "data": {
            "image/png": "[encoded data removed]",
            "text/plain": [
              "<Figure size 432x288 with 1 Axes>"
            ]
          },
          "metadata": {
            "tags": [],
            "needs_background": "light"
          }
        }
      ]
    },
    {
      "cell_type": "code",
      "metadata": {
        "id": "Av0AnorYxBo5"
      },
      "source": [
        "dataset =windowed_dataset(x_train,window_size=window_size,batch_size=batch_size,shuffle_buffer=shuffle_buffer_size)\n",
        "model = tf.keras.models.Sequential([\n",
        "                                    tf.keras.layers.Conv1D(filters=200,kernel_size=5,strides=1,padding='causal',activation='relu',input_shape=[None,1]),\n",
        "                                    tf.keras.layers.Bidirectional(tf.keras.layers.LSTM(20,return_sequences=True)),\n",
        "                                    tf.keras.layers.Bidirectional(tf.keras.layers.LSTM(20,return_sequences=True)),\n",
        "                                    tf.keras.layers.Dense(30,activation='relu'),\n",
        "                                    tf.keras.layers.Dense(10,activation = 'relu'),\n",
        "                                    tf.keras.layers.Dense(1),\n",
        "                                    tf.keras.layers.Lambda(lambda x : x*400)\n",
        "])\n",
        "model.compile(loss= tf.keras.losses.Huber(),optimizer = tf.keras.optimizers.SGD(lr=1e-6,momentum=0.9),metrics=['mae'])"
      ],
      "execution_count": null,
      "outputs": []
    },
    {
      "cell_type": "code",
      "metadata": {
        "colab": {
          "base_uri": "https://localhost:8080/"
        },
        "id": "KC0nSHggxTzp",
        "outputId": "39d36043-cf6d-49e9-a881-8a70a50234fa"
      },
      "source": [
        "history =model.fit(dataset,epochs=150)"
      ],
      "execution_count": null,
      "outputs": [
        {
          "output_type": "stream",
          "text": [
            "Epoch 1/150\n",
            "11/11 [==============================] - 0s 8ms/step - loss: 33.3669 - mae: 33.8655\n",
            "Epoch 2/150\n",
            "11/11 [==============================] - 0s 8ms/step - loss: 9.0475 - mae: 9.5378\n",
            "Epoch 3/150\n",
            "11/11 [==============================] - 0s 8ms/step - loss: 6.2404 - mae: 6.7290\n",
            "Epoch 4/150\n",
            "11/11 [==============================] - 0s 8ms/step - loss: 4.8358 - mae: 5.3188\n",
            "Epoch 5/150\n",
            "11/11 [==============================] - 0s 8ms/step - loss: 3.9051 - mae: 4.3787\n",
            "Epoch 6/150\n",
            "11/11 [==============================] - 0s 8ms/step - loss: 4.0565 - mae: 4.5335\n",
            "Epoch 7/150\n",
            "11/11 [==============================] - 0s 8ms/step - loss: 3.4914 - mae: 3.9618\n",
            "Epoch 8/150\n",
            "11/11 [==============================] - 0s 7ms/step - loss: 2.7934 - mae: 3.2640\n",
            "Epoch 9/150\n",
            "11/11 [==============================] - 0s 8ms/step - loss: 2.8556 - mae: 3.3220\n",
            "Epoch 10/150\n",
            "11/11 [==============================] - 0s 8ms/step - loss: 2.5625 - mae: 3.0266\n",
            "Epoch 11/150\n",
            "11/11 [==============================] - 0s 8ms/step - loss: 2.3721 - mae: 2.8314\n",
            "Epoch 12/150\n",
            "11/11 [==============================] - 0s 8ms/step - loss: 2.4854 - mae: 2.9549\n",
            "Epoch 13/150\n",
            "11/11 [==============================] - 0s 8ms/step - loss: 2.2277 - mae: 2.6810\n",
            "Epoch 14/150\n",
            "11/11 [==============================] - 0s 9ms/step - loss: 2.1166 - mae: 2.5758\n",
            "Epoch 15/150\n",
            "11/11 [==============================] - 0s 9ms/step - loss: 2.1751 - mae: 2.6262\n",
            "Epoch 16/150\n",
            "11/11 [==============================] - 0s 8ms/step - loss: 2.4478 - mae: 2.9047\n",
            "Epoch 17/150\n",
            "11/11 [==============================] - 0s 8ms/step - loss: 2.4364 - mae: 2.8966\n",
            "Epoch 18/150\n",
            "11/11 [==============================] - 0s 8ms/step - loss: 2.4365 - mae: 2.8970\n",
            "Epoch 19/150\n",
            "11/11 [==============================] - 0s 8ms/step - loss: 2.1023 - mae: 2.5591\n",
            "Epoch 20/150\n",
            "11/11 [==============================] - 0s 8ms/step - loss: 1.9352 - mae: 2.3816\n",
            "Epoch 21/150\n",
            "11/11 [==============================] - 0s 8ms/step - loss: 2.3996 - mae: 2.8718\n",
            "Epoch 22/150\n",
            "11/11 [==============================] - 0s 9ms/step - loss: 2.7725 - mae: 3.2408\n",
            "Epoch 23/150\n",
            "11/11 [==============================] - 0s 9ms/step - loss: 2.8483 - mae: 3.3246\n",
            "Epoch 24/150\n",
            "11/11 [==============================] - 0s 8ms/step - loss: 3.0140 - mae: 3.4879\n",
            "Epoch 25/150\n",
            "11/11 [==============================] - 0s 8ms/step - loss: 2.3867 - mae: 2.8514\n",
            "Epoch 26/150\n",
            "11/11 [==============================] - 0s 8ms/step - loss: 2.2871 - mae: 2.7418\n",
            "Epoch 27/150\n",
            "11/11 [==============================] - 0s 8ms/step - loss: 1.9622 - mae: 2.4132\n",
            "Epoch 28/150\n",
            "11/11 [==============================] - 0s 9ms/step - loss: 1.9006 - mae: 2.3467\n",
            "Epoch 29/150\n",
            "11/11 [==============================] - 0s 8ms/step - loss: 1.9565 - mae: 2.4125\n",
            "Epoch 30/150\n",
            "11/11 [==============================] - 0s 8ms/step - loss: 2.0373 - mae: 2.4762\n",
            "Epoch 31/150\n",
            "11/11 [==============================] - 0s 8ms/step - loss: 2.1074 - mae: 2.5658\n",
            "Epoch 32/150\n",
            "11/11 [==============================] - 0s 8ms/step - loss: 1.9887 - mae: 2.4417\n",
            "Epoch 33/150\n",
            "11/11 [==============================] - 0s 8ms/step - loss: 1.9297 - mae: 2.3820\n",
            "Epoch 34/150\n",
            "11/11 [==============================] - 0s 8ms/step - loss: 2.1114 - mae: 2.5622\n",
            "Epoch 35/150\n",
            "11/11 [==============================] - 0s 8ms/step - loss: 1.8671 - mae: 2.3146\n",
            "Epoch 36/150\n",
            "11/11 [==============================] - 0s 9ms/step - loss: 1.8210 - mae: 2.2682\n",
            "Epoch 37/150\n",
            "11/11 [==============================] - 0s 8ms/step - loss: 1.7314 - mae: 2.1747\n",
            "Epoch 38/150\n",
            "11/11 [==============================] - 0s 8ms/step - loss: 1.7858 - mae: 2.2347\n",
            "Epoch 39/150\n",
            "11/11 [==============================] - 0s 8ms/step - loss: 1.8032 - mae: 2.2524\n",
            "Epoch 40/150\n",
            "11/11 [==============================] - 0s 9ms/step - loss: 1.8789 - mae: 2.3285\n",
            "Epoch 41/150\n",
            "11/11 [==============================] - 0s 8ms/step - loss: 2.4175 - mae: 2.8847\n",
            "Epoch 42/150\n",
            "11/11 [==============================] - 0s 8ms/step - loss: 2.2914 - mae: 2.7506\n",
            "Epoch 43/150\n",
            "11/11 [==============================] - 0s 8ms/step - loss: 1.7750 - mae: 2.2218\n",
            "Epoch 44/150\n",
            "11/11 [==============================] - 0s 8ms/step - loss: 1.9359 - mae: 2.3803\n",
            "Epoch 45/150\n",
            "11/11 [==============================] - 0s 8ms/step - loss: 1.9943 - mae: 2.4472\n",
            "Epoch 46/150\n",
            "11/11 [==============================] - 0s 8ms/step - loss: 2.2426 - mae: 2.7051\n",
            "Epoch 47/150\n",
            "11/11 [==============================] - 0s 8ms/step - loss: 1.8653 - mae: 2.3134\n",
            "Epoch 48/150\n",
            "11/11 [==============================] - 0s 8ms/step - loss: 1.7372 - mae: 2.1790\n",
            "Epoch 49/150\n",
            "11/11 [==============================] - 0s 8ms/step - loss: 1.8740 - mae: 2.3232\n",
            "Epoch 50/150\n",
            "11/11 [==============================] - 0s 8ms/step - loss: 2.1703 - mae: 2.6300\n",
            "Epoch 51/150\n",
            "11/11 [==============================] - 0s 8ms/step - loss: 1.7987 - mae: 2.2445\n",
            "Epoch 52/150\n",
            "11/11 [==============================] - 0s 8ms/step - loss: 1.7003 - mae: 2.1399\n",
            "Epoch 53/150\n",
            "11/11 [==============================] - 0s 8ms/step - loss: 1.8397 - mae: 2.2908\n",
            "Epoch 54/150\n",
            "11/11 [==============================] - 0s 8ms/step - loss: 1.8310 - mae: 2.2798\n",
            "Epoch 55/150\n",
            "11/11 [==============================] - 0s 8ms/step - loss: 2.0012 - mae: 2.4595\n",
            "Epoch 56/150\n",
            "11/11 [==============================] - 0s 9ms/step - loss: 2.1679 - mae: 2.6308\n",
            "Epoch 57/150\n",
            "11/11 [==============================] - 0s 8ms/step - loss: 2.2483 - mae: 2.7110\n",
            "Epoch 58/150\n",
            "11/11 [==============================] - 0s 8ms/step - loss: 2.0514 - mae: 2.5096\n",
            "Epoch 59/150\n",
            "11/11 [==============================] - 0s 8ms/step - loss: 1.8308 - mae: 2.2822\n",
            "Epoch 60/150\n",
            "11/11 [==============================] - 0s 8ms/step - loss: 1.7965 - mae: 2.2457\n",
            "Epoch 61/150\n",
            "11/11 [==============================] - 0s 8ms/step - loss: 2.1057 - mae: 2.5652\n",
            "Epoch 62/150\n",
            "11/11 [==============================] - 0s 8ms/step - loss: 1.7658 - mae: 2.2032\n",
            "Epoch 63/150\n",
            "11/11 [==============================] - 0s 8ms/step - loss: 1.8032 - mae: 2.2483\n",
            "Epoch 64/150\n",
            "11/11 [==============================] - 0s 8ms/step - loss: 1.7950 - mae: 2.2355\n",
            "Epoch 65/150\n",
            "11/11 [==============================] - 0s 9ms/step - loss: 1.6671 - mae: 2.1039\n",
            "Epoch 66/150\n",
            "11/11 [==============================] - 0s 8ms/step - loss: 1.8776 - mae: 2.3234\n",
            "Epoch 67/150\n",
            "11/11 [==============================] - 0s 8ms/step - loss: 1.8406 - mae: 2.2885\n",
            "Epoch 68/150\n",
            "11/11 [==============================] - 0s 9ms/step - loss: 1.7617 - mae: 2.2107\n",
            "Epoch 69/150\n",
            "11/11 [==============================] - 0s 9ms/step - loss: 1.6590 - mae: 2.1035\n",
            "Epoch 70/150\n",
            "11/11 [==============================] - 0s 8ms/step - loss: 1.6777 - mae: 2.1196\n",
            "Epoch 71/150\n",
            "11/11 [==============================] - 0s 8ms/step - loss: 1.7018 - mae: 2.1463\n",
            "Epoch 72/150\n",
            "11/11 [==============================] - 0s 8ms/step - loss: 2.1249 - mae: 2.5834\n",
            "Epoch 73/150\n",
            "11/11 [==============================] - 0s 8ms/step - loss: 1.7344 - mae: 2.1762\n",
            "Epoch 74/150\n",
            "11/11 [==============================] - 0s 9ms/step - loss: 1.6504 - mae: 2.0901\n",
            "Epoch 75/150\n",
            "11/11 [==============================] - 0s 8ms/step - loss: 1.8294 - mae: 2.2689\n",
            "Epoch 76/150\n",
            "11/11 [==============================] - 0s 8ms/step - loss: 2.7899 - mae: 3.2582\n",
            "Epoch 77/150\n",
            "11/11 [==============================] - 0s 8ms/step - loss: 2.4551 - mae: 2.9094\n",
            "Epoch 78/150\n",
            "11/11 [==============================] - 0s 8ms/step - loss: 1.8959 - mae: 2.3455\n",
            "Epoch 79/150\n",
            "11/11 [==============================] - 0s 8ms/step - loss: 1.6466 - mae: 2.0815\n",
            "Epoch 80/150\n",
            "11/11 [==============================] - 0s 8ms/step - loss: 1.8479 - mae: 2.3022\n",
            "Epoch 81/150\n",
            "11/11 [==============================] - 0s 8ms/step - loss: 1.6711 - mae: 2.1070\n",
            "Epoch 82/150\n",
            "11/11 [==============================] - 0s 8ms/step - loss: 1.6139 - mae: 2.0564\n",
            "Epoch 83/150\n",
            "11/11 [==============================] - 0s 10ms/step - loss: 1.7886 - mae: 2.2310\n",
            "Epoch 84/150\n",
            "11/11 [==============================] - 0s 8ms/step - loss: 1.8879 - mae: 2.3385\n",
            "Epoch 85/150\n",
            "11/11 [==============================] - 0s 8ms/step - loss: 1.6203 - mae: 2.0591\n",
            "Epoch 86/150\n",
            "11/11 [==============================] - 0s 8ms/step - loss: 1.7069 - mae: 2.1489\n",
            "Epoch 87/150\n",
            "11/11 [==============================] - 0s 8ms/step - loss: 1.7911 - mae: 2.2312\n",
            "Epoch 88/150\n",
            "11/11 [==============================] - 0s 8ms/step - loss: 1.6621 - mae: 2.1031\n",
            "Epoch 89/150\n",
            "11/11 [==============================] - 0s 8ms/step - loss: 1.6429 - mae: 2.0769\n",
            "Epoch 90/150\n",
            "11/11 [==============================] - 0s 9ms/step - loss: 1.6797 - mae: 2.1165\n",
            "Epoch 91/150\n",
            "11/11 [==============================] - 0s 9ms/step - loss: 1.5906 - mae: 2.0332\n",
            "Epoch 92/150\n",
            "11/11 [==============================] - 0s 8ms/step - loss: 1.6191 - mae: 2.0543\n",
            "Epoch 93/150\n",
            "11/11 [==============================] - 0s 8ms/step - loss: 2.2158 - mae: 2.6736\n",
            "Epoch 94/150\n",
            "11/11 [==============================] - 0s 8ms/step - loss: 1.7908 - mae: 2.2360\n",
            "Epoch 95/150\n",
            "11/11 [==============================] - 0s 8ms/step - loss: 1.8291 - mae: 2.2815\n",
            "Epoch 96/150\n",
            "11/11 [==============================] - 0s 8ms/step - loss: 2.1919 - mae: 2.6464\n",
            "Epoch 97/150\n",
            "11/11 [==============================] - 0s 9ms/step - loss: 1.8712 - mae: 2.3227\n",
            "Epoch 98/150\n",
            "11/11 [==============================] - 0s 8ms/step - loss: 1.8459 - mae: 2.2949\n",
            "Epoch 99/150\n",
            "11/11 [==============================] - 0s 8ms/step - loss: 1.6123 - mae: 2.0567\n",
            "Epoch 100/150\n",
            "11/11 [==============================] - 0s 8ms/step - loss: 1.9133 - mae: 2.3569\n",
            "Epoch 101/150\n",
            "11/11 [==============================] - 0s 8ms/step - loss: 1.7573 - mae: 2.2001\n",
            "Epoch 102/150\n",
            "11/11 [==============================] - 0s 8ms/step - loss: 1.6990 - mae: 2.1459\n",
            "Epoch 103/150\n",
            "11/11 [==============================] - 0s 8ms/step - loss: 1.7539 - mae: 2.2076\n",
            "Epoch 104/150\n",
            "11/11 [==============================] - 0s 8ms/step - loss: 1.8532 - mae: 2.2974\n",
            "Epoch 105/150\n",
            "11/11 [==============================] - 0s 9ms/step - loss: 1.7454 - mae: 2.1865\n",
            "Epoch 106/150\n",
            "11/11 [==============================] - 0s 8ms/step - loss: 1.5696 - mae: 2.0007\n",
            "Epoch 107/150\n",
            "11/11 [==============================] - 0s 8ms/step - loss: 1.8915 - mae: 2.3459\n",
            "Epoch 108/150\n",
            "11/11 [==============================] - 0s 8ms/step - loss: 1.8950 - mae: 2.3460\n",
            "Epoch 109/150\n",
            "11/11 [==============================] - 0s 8ms/step - loss: 1.5977 - mae: 2.0378\n",
            "Epoch 110/150\n",
            "11/11 [==============================] - 0s 8ms/step - loss: 1.7268 - mae: 2.1688\n",
            "Epoch 111/150\n",
            "11/11 [==============================] - 0s 8ms/step - loss: 1.8986 - mae: 2.3578\n",
            "Epoch 112/150\n",
            "11/11 [==============================] - 0s 8ms/step - loss: 1.7787 - mae: 2.2270\n",
            "Epoch 113/150\n",
            "11/11 [==============================] - 0s 9ms/step - loss: 1.6575 - mae: 2.1060\n",
            "Epoch 114/150\n",
            "11/11 [==============================] - 0s 8ms/step - loss: 1.9403 - mae: 2.3969\n",
            "Epoch 115/150\n",
            "11/11 [==============================] - 0s 8ms/step - loss: 1.9653 - mae: 2.4166\n",
            "Epoch 116/150\n",
            "11/11 [==============================] - 0s 8ms/step - loss: 1.6297 - mae: 2.0800\n",
            "Epoch 117/150\n",
            "11/11 [==============================] - 0s 9ms/step - loss: 1.7872 - mae: 2.2281\n",
            "Epoch 118/150\n",
            "11/11 [==============================] - 0s 8ms/step - loss: 1.5885 - mae: 2.0310\n",
            "Epoch 119/150\n",
            "11/11 [==============================] - 0s 8ms/step - loss: 1.5861 - mae: 2.0220\n",
            "Epoch 120/150\n",
            "11/11 [==============================] - 0s 8ms/step - loss: 1.5618 - mae: 1.9987\n",
            "Epoch 121/150\n",
            "11/11 [==============================] - 0s 8ms/step - loss: 1.5835 - mae: 2.0172\n",
            "Epoch 122/150\n",
            "11/11 [==============================] - 0s 9ms/step - loss: 1.6478 - mae: 2.0885\n",
            "Epoch 123/150\n",
            "11/11 [==============================] - 0s 8ms/step - loss: 1.5110 - mae: 1.9404\n",
            "Epoch 124/150\n",
            "11/11 [==============================] - 0s 8ms/step - loss: 1.6688 - mae: 2.1124\n",
            "Epoch 125/150\n",
            "11/11 [==============================] - 0s 8ms/step - loss: 1.5305 - mae: 1.9588\n",
            "Epoch 126/150\n",
            "11/11 [==============================] - 0s 8ms/step - loss: 1.5630 - mae: 2.0082\n",
            "Epoch 127/150\n",
            "11/11 [==============================] - 0s 8ms/step - loss: 1.8616 - mae: 2.3192\n",
            "Epoch 128/150\n",
            "11/11 [==============================] - 0s 8ms/step - loss: 1.6215 - mae: 2.0544\n",
            "Epoch 129/150\n",
            "11/11 [==============================] - 0s 8ms/step - loss: 1.6201 - mae: 2.0573\n",
            "Epoch 130/150\n",
            "11/11 [==============================] - 0s 9ms/step - loss: 1.5711 - mae: 2.0142\n",
            "Epoch 131/150\n",
            "11/11 [==============================] - 0s 9ms/step - loss: 1.5455 - mae: 1.9826\n",
            "Epoch 132/150\n",
            "11/11 [==============================] - 0s 8ms/step - loss: 1.7459 - mae: 2.1883\n",
            "Epoch 133/150\n",
            "11/11 [==============================] - 0s 8ms/step - loss: 1.7773 - mae: 2.2202\n",
            "Epoch 134/150\n",
            "11/11 [==============================] - 0s 8ms/step - loss: 1.6645 - mae: 2.0987\n",
            "Epoch 135/150\n",
            "11/11 [==============================] - 0s 8ms/step - loss: 1.8832 - mae: 2.3358\n",
            "Epoch 136/150\n",
            "11/11 [==============================] - 0s 9ms/step - loss: 1.6711 - mae: 2.1043\n",
            "Epoch 137/150\n",
            "11/11 [==============================] - 0s 8ms/step - loss: 1.7000 - mae: 2.1401\n",
            "Epoch 138/150\n",
            "11/11 [==============================] - 0s 9ms/step - loss: 1.5617 - mae: 2.0077\n",
            "Epoch 139/150\n",
            "11/11 [==============================] - 0s 8ms/step - loss: 1.4835 - mae: 1.9106\n",
            "Epoch 140/150\n",
            "11/11 [==============================] - 0s 9ms/step - loss: 1.8038 - mae: 2.2555\n",
            "Epoch 141/150\n",
            "11/11 [==============================] - 0s 8ms/step - loss: 1.9309 - mae: 2.3802\n",
            "Epoch 142/150\n",
            "11/11 [==============================] - 0s 8ms/step - loss: 1.7575 - mae: 2.1992\n",
            "Epoch 143/150\n",
            "11/11 [==============================] - 0s 8ms/step - loss: 1.6998 - mae: 2.1319\n",
            "Epoch 144/150\n",
            "11/11 [==============================] - 0s 8ms/step - loss: 1.8284 - mae: 2.2770\n",
            "Epoch 145/150\n",
            "11/11 [==============================] - 0s 9ms/step - loss: 1.4792 - mae: 1.9137\n",
            "Epoch 146/150\n",
            "11/11 [==============================] - 0s 8ms/step - loss: 1.9667 - mae: 2.4126\n",
            "Epoch 147/150\n",
            "11/11 [==============================] - 0s 8ms/step - loss: 1.8651 - mae: 2.3075\n",
            "Epoch 148/150\n",
            "11/11 [==============================] - 0s 8ms/step - loss: 1.5705 - mae: 2.0077\n",
            "Epoch 149/150\n",
            "11/11 [==============================] - 0s 9ms/step - loss: 1.5804 - mae: 2.0142\n",
            "Epoch 150/150\n",
            "11/11 [==============================] - 0s 9ms/step - loss: 1.5405 - mae: 1.9784\n"
          ],
          "name": "stdout"
        }
      ]
    },
    {
      "cell_type": "code",
      "metadata": {
        "colab": {
          "base_uri": "https://localhost:8080/",
          "height": 388
        },
        "id": "0m-eUfc6xUkD",
        "outputId": "fd270dca-9b16-4422-ae8b-3fd6cbfdb513"
      },
      "source": [
        "rnn_forecast = model_forecast(model,series[...,np.newaxis],window_size)\n",
        "rnn_forecast = rnn_forecast[split_time-window_size:-1,-1,0]\n",
        "plt.figure(figsize=(10,6))\n",
        "plot_series(time_test,rnn_forecast)\n",
        "plot_series(time_test,x_test)\n",
        "plt.show()"
      ],
      "execution_count": null,
      "outputs": [
        {
          "output_type": "display_data",
          "data": {
            "image/png": "[encoded data removed]",
            "text/plain": [
              "<Figure size 720x432 with 1 Axes>"
            ]
          },
          "metadata": {
            "tags": [],
            "needs_background": "light"
          }
        }
      ]
    },
    {
      "cell_type": "code",
      "metadata": {
        "colab": {
          "base_uri": "https://localhost:8080/"
        },
        "id": "-BOMOeywx4rL",
        "outputId": "2301ee73-7512-4a34-f656-83a77f195f4c"
      },
      "source": [
        "tf.keras.metrics.mean_absolute_error(rnn_forecast,x_test)"
      ],
      "execution_count": null,
      "outputs": [
        {
          "output_type": "execute_result",
          "data": {
            "text/plain": [
              "<tf.Tensor: shape=(), dtype=float64, numpy=1.4304004096984866>"
            ]
          },
          "metadata": {
            "tags": []
          },
          "execution_count": 79
        }
      ]
    },
    {
      "cell_type": "code",
      "metadata": {
        "colab": {
          "base_uri": "https://localhost:8080/",
          "height": 204
        },
        "id": "nz0IMloszp1U",
        "outputId": "8112a19f-3f9c-434b-a141-8bddb8a67457"
      },
      "source": [
        "df = pd.read_csv('/content/Train.csv')\n",
        "df.head()"
      ],
      "execution_count": null,
      "outputs": [
        {
          "output_type": "execute_result",
          "data": {
            "text/html": [
              "<div>\n",
              "<style scoped>\n",
              "    .dataframe tbody tr th:only-of-type {\n",
              "        vertical-align: middle;\n",
              "    }\n",
              "\n",
              "    .dataframe tbody tr th {\n",
              "        vertical-align: top;\n",
              "    }\n",
              "\n",
              "    .dataframe thead th {\n",
              "        text-align: right;\n",
              "    }\n",
              "</style>\n",
              "<table border=\"1\" class=\"dataframe\">\n",
              "  <thead>\n",
              "    <tr style=\"text-align: right;\">\n",
              "      <th></th>\n",
              "      <th>ID</th>\n",
              "      <th>Datetime</th>\n",
              "      <th>Count</th>\n",
              "    </tr>\n",
              "  </thead>\n",
              "  <tbody>\n",
              "    <tr>\n",
              "      <th>0</th>\n",
              "      <td>0</td>\n",
              "      <td>25-08-2012 00:00</td>\n",
              "      <td>8</td>\n",
              "    </tr>\n",
              "    <tr>\n",
              "      <th>1</th>\n",
              "      <td>1</td>\n",
              "      <td>25-08-2012 01:00</td>\n",
              "      <td>2</td>\n",
              "    </tr>\n",
              "    <tr>\n",
              "      <th>2</th>\n",
              "      <td>2</td>\n",
              "      <td>25-08-2012 02:00</td>\n",
              "      <td>6</td>\n",
              "    </tr>\n",
              "    <tr>\n",
              "      <th>3</th>\n",
              "      <td>3</td>\n",
              "      <td>25-08-2012 03:00</td>\n",
              "      <td>2</td>\n",
              "    </tr>\n",
              "    <tr>\n",
              "      <th>4</th>\n",
              "      <td>4</td>\n",
              "      <td>25-08-2012 04:00</td>\n",
              "      <td>2</td>\n",
              "    </tr>\n",
              "  </tbody>\n",
              "</table>\n",
              "</div>"
            ],
            "text/plain": [
              "   ID          Datetime  Count\n",
              "0   0  25-08-2012 00:00      8\n",
              "1   1  25-08-2012 01:00      2\n",
              "2   2  25-08-2012 02:00      6\n",
              "3   3  25-08-2012 03:00      2\n",
              "4   4  25-08-2012 04:00      2"
            ]
          },
          "metadata": {
            "tags": []
          },
          "execution_count": 81
        }
      ]
    },
    {
      "cell_type": "code",
      "metadata": {
        "id": "Nfu6DpfCz6Ms"
      },
      "source": [
        "sunspots =[]\n",
        "timesteps =[]\n",
        "with open('/content/Train.csv') as csv_file:\n",
        "  reader = csv.reader(csv_file,delimiter=',')\n",
        "  next(reader)\n",
        "  for row in reader:\n",
        "    sunspots.append(float(row[2]))\n",
        "    timesteps.append(int(row[0]))\n",
        "    "
      ],
      "execution_count": null,
      "outputs": []
    },
    {
      "cell_type": "code",
      "metadata": {
        "colab": {
          "base_uri": "https://localhost:8080/",
          "height": 279
        },
        "id": "GPv8XbV3Dk1r",
        "outputId": "77c4ff80-e689-4cbd-f21f-a32564443a1e"
      },
      "source": [
        "time= np.array(timesteps)\n",
        "series = np.array(sunspots)\n",
        "plot_series(time,series)"
      ],
      "execution_count": null,
      "outputs": [
        {
          "output_type": "display_data",
          "data": {
            "image/png": "[encoded data removed]",
            "text/plain": [
              "<Figure size 432x288 with 1 Axes>"
            ]
          },
          "metadata": {
            "tags": [],
            "needs_background": "light"
          }
        }
      ]
    },
    {
      "cell_type": "code",
      "metadata": {
        "colab": {
          "base_uri": "https://localhost:8080/"
        },
        "id": "ZakpMz5fDtn5",
        "outputId": "334645f9-54f7-40da-f080-576bafcdf714"
      },
      "source": [
        "time.shape,series.shape"
      ],
      "execution_count": null,
      "outputs": [
        {
          "output_type": "execute_result",
          "data": {
            "text/plain": [
              "((18288,), (18288,))"
            ]
          },
          "metadata": {
            "tags": []
          },
          "execution_count": 84
        }
      ]
    },
    {
      "cell_type": "code",
      "metadata": {
        "id": "7Vui--LBD_pD"
      },
      "source": [
        "split_time= 18000\n",
        "time_train = time[:split_time]\n",
        "time_valid = time[split_time:]\n",
        "x_train = series[:split_time]\n",
        "x_valid = series[split_time:]"
      ],
      "execution_count": null,
      "outputs": []
    },
    {
      "cell_type": "code",
      "metadata": {
        "id": "gogEoUZkEO4r"
      },
      "source": [
        "window_size=20\n",
        "batch_size =32\n",
        "shuffle_buffer_size=1000\n",
        "dataset = windowed_dataset(x_train,window_size,batch_size,shuffle_buffer=shuffle_buffer_size)\n",
        "model = tf.keras.models.Sequential([\n",
        "                                    tf.keras.layers.Conv1D(filters=500,kernel_size=5,strides=1,padding='causal',activation='relu',input_shape=[None,1]),\n",
        "                                    tf.keras.layers.Bidirectional(tf.keras.layers.LSTM(16,return_sequences=True)),\n",
        "                                    tf.keras.layers.Bidirectional(tf.keras.layers.LSTM(16,return_sequences=True)),\n",
        "                                    tf.keras.layers.Dense(30,activation='relu'),\n",
        "                                    tf.keras.layers.Dense(10,activation = 'relu'),\n",
        "                                    tf.keras.layers.Dense(1),\n",
        "                                    tf.keras.layers.Lambda(lambda x : x*400)\n",
        "])"
      ],
      "execution_count": null,
      "outputs": []
    },
    {
      "cell_type": "code",
      "metadata": {
        "id": "0-UkicATEdnB"
      },
      "source": [
        "lr_scheduler = tf.keras.callbacks.LearningRateScheduler(lambda epochs: 1e-8*10**(epochs/20))\n",
        "model.compile(loss= tf.keras.losses.Huber(),optimizer= tf.keras.optimizers.SGD(lr=1e-8,momentum=0.9),metrics=['mae'])"
      ],
      "execution_count": null,
      "outputs": []
    },
    {
      "cell_type": "code",
      "metadata": {
        "colab": {
          "base_uri": "https://localhost:8080/"
        },
        "id": "vT-OXusrE0Hc",
        "outputId": "a7fce822-4fdd-4c7b-f477-f36fbcd127eb"
      },
      "source": [
        "history =model.fit(dataset,epochs= 100,callbacks=[lr_scheduler])"
      ],
      "execution_count": null,
      "outputs": [
        {
          "output_type": "stream",
          "text": [
            "Epoch 1/100\n",
            "562/562 [==============================] - 20s 36ms/step - loss: 61.4815 - mae: 61.9791\n",
            "Epoch 2/100\n",
            "562/562 [==============================] - 20s 36ms/step - loss: 51.4599 - mae: 51.9557\n",
            "Epoch 3/100\n",
            "562/562 [==============================] - 21s 37ms/step - loss: 46.2831 - mae: 46.7784\n",
            "Epoch 4/100\n",
            "562/562 [==============================] - 20s 36ms/step - loss: 43.1325 - mae: 43.6275\n",
            "Epoch 5/100\n",
            "562/562 [==============================] - 20s 36ms/step - loss: 40.6352 - mae: 41.1300\n",
            "Epoch 6/100\n",
            "562/562 [==============================] - 20s 36ms/step - loss: 38.9286 - mae: 39.4230\n",
            "Epoch 7/100\n",
            "562/562 [==============================] - 20s 36ms/step - loss: 37.3305 - mae: 37.8247\n",
            "Epoch 8/100\n",
            "562/562 [==============================] - 20s 36ms/step - loss: 35.7486 - mae: 36.2427\n",
            "Epoch 9/100\n",
            "562/562 [==============================] - 20s 36ms/step - loss: 34.6497 - mae: 35.1435\n",
            "Epoch 10/100\n",
            "562/562 [==============================] - 20s 36ms/step - loss: 33.4735 - mae: 33.9672\n",
            "Epoch 11/100\n",
            "562/562 [==============================] - 20s 36ms/step - loss: 32.4006 - mae: 32.8941\n",
            "Epoch 12/100\n",
            "562/562 [==============================] - 20s 36ms/step - loss: 31.2707 - mae: 31.7639\n",
            "Epoch 13/100\n",
            "562/562 [==============================] - 20s 36ms/step - loss: 31.3094 - mae: 31.8027\n",
            "Epoch 14/100\n",
            "562/562 [==============================] - 20s 36ms/step - loss: 30.4572 - mae: 30.9502\n",
            "Epoch 15/100\n",
            "562/562 [==============================] - 20s 36ms/step - loss: 30.1833 - mae: 30.6762\n",
            "Epoch 16/100\n",
            "562/562 [==============================] - 20s 36ms/step - loss: 29.6616 - mae: 30.1544\n",
            "Epoch 17/100\n",
            "562/562 [==============================] - 20s 36ms/step - loss: 29.1857 - mae: 29.6785\n",
            "Epoch 18/100\n",
            "562/562 [==============================] - 20s 36ms/step - loss: 29.5264 - mae: 30.0190\n",
            "Epoch 19/100\n",
            "562/562 [==============================] - 20s 36ms/step - loss: 29.0277 - mae: 29.5204\n",
            "Epoch 20/100\n",
            "562/562 [==============================] - 20s 36ms/step - loss: 28.2969 - mae: 28.7892\n",
            "Epoch 21/100\n",
            "562/562 [==============================] - 20s 36ms/step - loss: 28.0623 - mae: 28.5547\n",
            "Epoch 22/100\n",
            "562/562 [==============================] - 20s 36ms/step - loss: 28.0117 - mae: 28.5040\n",
            "Epoch 23/100\n",
            "562/562 [==============================] - 25s 45ms/step - loss: 28.8703 - mae: 29.3623\n",
            "Epoch 24/100\n",
            "562/562 [==============================] - 21s 37ms/step - loss: 28.5149 - mae: 29.0071\n",
            "Epoch 25/100\n",
            "562/562 [==============================] - 21s 37ms/step - loss: 29.3054 - mae: 29.7986\n",
            "Epoch 26/100\n",
            "562/562 [==============================] - 21s 36ms/step - loss: 27.9071 - mae: 28.3995\n",
            "Epoch 27/100\n",
            "562/562 [==============================] - 20s 36ms/step - loss: 27.4491 - mae: 27.9410\n",
            "Epoch 28/100\n",
            "562/562 [==============================] - 21s 36ms/step - loss: 29.0665 - mae: 29.5588\n",
            "Epoch 29/100\n",
            "562/562 [==============================] - 20s 36ms/step - loss: 29.8748 - mae: 30.3673\n",
            "Epoch 30/100\n",
            "562/562 [==============================] - 21s 36ms/step - loss: 28.8641 - mae: 29.3562\n",
            "Epoch 31/100\n",
            "562/562 [==============================] - 21s 37ms/step - loss: 29.1903 - mae: 29.6829\n",
            "Epoch 32/100\n",
            "562/562 [==============================] - 20s 36ms/step - loss: 29.7069 - mae: 30.1997\n",
            "Epoch 33/100\n",
            "562/562 [==============================] - 21s 37ms/step - loss: 29.3068 - mae: 29.7992\n",
            "Epoch 34/100\n",
            "562/562 [==============================] - 20s 36ms/step - loss: 31.1152 - mae: 31.6082\n",
            "Epoch 35/100\n",
            "562/562 [==============================] - 21s 37ms/step - loss: 29.6006 - mae: 30.0926\n",
            "Epoch 36/100\n",
            "562/562 [==============================] - 21s 37ms/step - loss: 29.1111 - mae: 29.6029\n",
            "Epoch 37/100\n",
            "562/562 [==============================] - 21s 36ms/step - loss: 29.8989 - mae: 30.3911\n",
            "Epoch 38/100\n",
            "562/562 [==============================] - 20s 36ms/step - loss: 30.3459 - mae: 30.8383\n",
            "Epoch 39/100\n",
            "562/562 [==============================] - 20s 36ms/step - loss: 30.9409 - mae: 31.4333\n",
            "Epoch 40/100\n",
            "562/562 [==============================] - 20s 36ms/step - loss: 31.4062 - mae: 31.8993\n",
            "Epoch 41/100\n",
            "562/562 [==============================] - 20s 36ms/step - loss: 30.6508 - mae: 31.1437\n",
            "Epoch 42/100\n",
            "562/562 [==============================] - 21s 37ms/step - loss: 29.6399 - mae: 30.1321\n",
            "Epoch 43/100\n",
            "562/562 [==============================] - 21s 37ms/step - loss: 29.4854 - mae: 29.9781\n",
            "Epoch 44/100\n",
            "562/562 [==============================] - 21s 37ms/step - loss: 30.6412 - mae: 31.1339\n",
            "Epoch 45/100\n",
            "562/562 [==============================] - 21s 37ms/step - loss: 30.1247 - mae: 30.6173\n",
            "Epoch 46/100\n",
            "562/562 [==============================] - 21s 37ms/step - loss: 30.1306 - mae: 30.6226\n",
            "Epoch 47/100\n",
            "562/562 [==============================] - 21s 37ms/step - loss: 31.2448 - mae: 31.7370\n",
            "Epoch 48/100\n",
            "562/562 [==============================] - 21s 37ms/step - loss: 33.7018 - mae: 34.1949\n",
            "Epoch 49/100\n",
            "562/562 [==============================] - 21s 37ms/step - loss: 30.4240 - mae: 30.9161\n",
            "Epoch 50/100\n",
            "562/562 [==============================] - 21s 37ms/step - loss: 31.4427 - mae: 31.9355\n",
            "Epoch 51/100\n",
            "562/562 [==============================] - 20s 36ms/step - loss: 35.1028 - mae: 35.5955\n",
            "Epoch 52/100\n",
            "562/562 [==============================] - 25s 45ms/step - loss: 31.9053 - mae: 32.3986\n",
            "Epoch 53/100\n",
            "562/562 [==============================] - 21s 37ms/step - loss: 32.0839 - mae: 32.5768\n",
            "Epoch 54/100\n",
            "562/562 [==============================] - 21s 37ms/step - loss: 32.1527 - mae: 32.6458\n",
            "Epoch 55/100\n",
            "562/562 [==============================] - 21s 37ms/step - loss: 39.2917 - mae: 39.7850\n",
            "Epoch 56/100\n",
            "562/562 [==============================] - 21s 37ms/step - loss: 40.2758 - mae: 40.7703\n",
            "Epoch 57/100\n",
            "562/562 [==============================] - 21s 37ms/step - loss: 36.5416 - mae: 37.0350\n",
            "Epoch 58/100\n",
            "562/562 [==============================] - 21s 37ms/step - loss: 33.4645 - mae: 33.9575\n",
            "Epoch 59/100\n",
            "562/562 [==============================] - 21s 37ms/step - loss: 34.9084 - mae: 35.4020\n",
            "Epoch 60/100\n",
            "562/562 [==============================] - 21s 37ms/step - loss: 32.3970 - mae: 32.8897\n",
            "Epoch 61/100\n",
            "562/562 [==============================] - 21s 37ms/step - loss: 32.6299 - mae: 33.1228\n",
            "Epoch 62/100\n",
            "562/562 [==============================] - 21s 37ms/step - loss: 29.8809 - mae: 30.3738\n",
            "Epoch 63/100\n",
            "562/562 [==============================] - 21s 37ms/step - loss: 29.9062 - mae: 30.3991\n",
            "Epoch 64/100\n",
            "562/562 [==============================] - 21s 37ms/step - loss: 29.7527 - mae: 30.2454\n",
            "Epoch 65/100\n",
            "562/562 [==============================] - 21s 37ms/step - loss: 31.5595 - mae: 32.0524\n",
            "Epoch 66/100\n",
            "562/562 [==============================] - 21s 37ms/step - loss: 30.2067 - mae: 30.6999\n",
            "Epoch 67/100\n",
            "562/562 [==============================] - 21s 37ms/step - loss: 30.7904 - mae: 31.2832\n",
            "Epoch 68/100\n",
            "562/562 [==============================] - 21s 37ms/step - loss: 31.0416 - mae: 31.5346\n",
            "Epoch 69/100\n",
            "562/562 [==============================] - 21s 37ms/step - loss: 29.7834 - mae: 30.2765\n",
            "Epoch 70/100\n",
            "562/562 [==============================] - 21s 37ms/step - loss: 30.9693 - mae: 31.4619\n",
            "Epoch 71/100\n",
            "562/562 [==============================] - 21s 37ms/step - loss: 31.2101 - mae: 31.7027\n",
            "Epoch 72/100\n",
            "562/562 [==============================] - 21s 37ms/step - loss: 47.9214 - mae: 48.4162\n",
            "Epoch 73/100\n",
            "562/562 [==============================] - 20s 36ms/step - loss: 46.2989 - mae: 46.7940\n",
            "Epoch 74/100\n",
            "562/562 [==============================] - 21s 37ms/step - loss: 46.7289 - mae: 47.2248\n",
            "Epoch 75/100\n",
            "562/562 [==============================] - 21s 37ms/step - loss: 47.6887 - mae: 48.1841\n",
            "Epoch 76/100\n",
            "562/562 [==============================] - 21s 37ms/step - loss: 42.0132 - mae: 42.5082\n",
            "Epoch 77/100\n",
            "562/562 [==============================] - 21s 37ms/step - loss: 57.2382 - mae: 57.7340\n",
            "Epoch 78/100\n",
            "562/562 [==============================] - 21s 37ms/step - loss: 61.5402 - mae: 62.0364\n",
            "Epoch 79/100\n",
            "562/562 [==============================] - 21s 37ms/step - loss: 61.8569 - mae: 62.3532\n",
            "Epoch 80/100\n",
            "562/562 [==============================] - 21s 37ms/step - loss: 60.5968 - mae: 61.0933\n",
            "Epoch 81/100\n",
            "562/562 [==============================] - 23s 41ms/step - loss: 61.2940 - mae: 61.7899\n",
            "Epoch 82/100\n",
            "562/562 [==============================] - 23s 41ms/step - loss: 61.3941 - mae: 61.8909\n",
            "Epoch 83/100\n",
            "562/562 [==============================] - 21s 37ms/step - loss: 62.1486 - mae: 62.6454\n",
            "Epoch 84/100\n",
            "562/562 [==============================] - 21s 37ms/step - loss: 63.8588 - mae: 64.3562\n",
            "Epoch 85/100\n",
            "562/562 [==============================] - 21s 37ms/step - loss: 62.6813 - mae: 63.1786\n",
            "Epoch 86/100\n",
            "562/562 [==============================] - 21s 37ms/step - loss: 62.1300 - mae: 62.6269\n",
            "Epoch 87/100\n",
            "562/562 [==============================] - 21s 37ms/step - loss: 62.7638 - mae: 63.2613\n",
            "Epoch 88/100\n",
            "562/562 [==============================] - 21s 37ms/step - loss: 71.3073 - mae: 71.8054\n",
            "Epoch 89/100\n",
            "562/562 [==============================] - 21s 37ms/step - loss: 68.6666 - mae: 69.1643\n",
            "Epoch 90/100\n",
            "562/562 [==============================] - 21s 37ms/step - loss: 67.6566 - mae: 68.1544\n",
            "Epoch 91/100\n",
            "562/562 [==============================] - 21s 37ms/step - loss: 72.4271 - mae: 72.9252\n",
            "Epoch 92/100\n",
            "562/562 [==============================] - 21s 37ms/step - loss: 77.4772 - mae: 77.9757\n",
            "Epoch 93/100\n",
            "562/562 [==============================] - 21s 37ms/step - loss: 73.7739 - mae: 74.2722\n",
            "Epoch 94/100\n",
            "562/562 [==============================] - 21s 37ms/step - loss: 86.9972 - mae: 87.4961\n",
            "Epoch 95/100\n",
            "562/562 [==============================] - 21s 37ms/step - loss: 78.3810 - mae: 78.8792\n",
            "Epoch 96/100\n",
            "562/562 [==============================] - 21s 37ms/step - loss: 98.6181 - mae: 99.1172\n",
            "Epoch 97/100\n",
            "562/562 [==============================] - 21s 37ms/step - loss: 95.7386 - mae: 96.2376\n",
            "Epoch 98/100\n",
            "562/562 [==============================] - 21s 37ms/step - loss: 85.7426 - mae: 86.2411\n",
            "Epoch 99/100\n",
            "562/562 [==============================] - 21s 37ms/step - loss: 169.9103 - mae: 170.4095\n",
            "Epoch 100/100\n",
            "562/562 [==============================] - 21s 37ms/step - loss: 192.7684 - mae: 193.2678\n"
          ],
          "name": "stdout"
        }
      ]
    },
    {
      "cell_type": "code",
      "metadata": {
        "colab": {
          "base_uri": "https://localhost:8080/",
          "height": 289
        },
        "id": "ixwRbzgEE-IT",
        "outputId": "f928f3b2-cdf9-46f0-bec7-6b55ea92fc01"
      },
      "source": [
        "plt.semilogx(history.history['lr'],history.history['loss'])"
      ],
      "execution_count": null,
      "outputs": [
        {
          "output_type": "execute_result",
          "data": {
            "text/plain": [
              "[<matplotlib.lines.Line2D at 0x7fb190ba60f0>]"
            ]
          },
          "metadata": {
            "tags": []
          },
          "execution_count": 95
        },
        {
          "output_type": "display_data",
          "data": {
            "image/png": "[encoded data removed]",
            "text/plain": [
              "<Figure size 432x288 with 1 Axes>"
            ]
          },
          "metadata": {
            "tags": [],
            "needs_background": "light"
          }
        }
      ]
    },
    {
      "cell_type": "code",
      "metadata": {
        "colab": {
          "base_uri": "https://localhost:8080/"
        },
        "id": "8YiXzIpoNUNX",
        "outputId": "077b9ca5-c6e9-44f2-9c89-06ede28f37e5"
      },
      "source": [
        "\n",
        "\n",
        "dataset =windowed_dataset(x_train,window_size=window_size,batch_size=batch_size,shuffle_buffer=shuffle_buffer_size)\n",
        "model = tf.keras.models.Sequential([\n",
        "                                    tf.keras.layers.Conv1D(filters=500,kernel_size=5,strides=1,padding='causal',activation='relu',input_shape=[None,1]),\n",
        "                                    tf.keras.layers.Bidirectional(tf.keras.layers.LSTM(12,return_sequences=True)),\n",
        "                                    tf.keras.layers.Bidirectional(tf.keras.layers.LSTM(12,return_sequences=True)),\n",
        "                                    tf.keras.layers.Dense(30,activation='relu'),\n",
        "                                    tf.keras.layers.Dense(10,activation = 'relu'),\n",
        "                                    tf.keras.layers.Dense(1),\n",
        "                                    tf.keras.layers.Lambda(lambda x : x*400)\n",
        "])\n",
        "\n",
        "model.compile(loss= tf.keras.losses.Huber(),optimizer= tf.keras.optimizers.SGD(lr=1e-6,momentum=0.9),metrics=['mae'])\n",
        "history = model.fit(dataset,epochs=150)"
      ],
      "execution_count": null,
      "outputs": [
        {
          "output_type": "stream",
          "text": [
            "Epoch 1/150\n",
            "562/562 [==============================] - 19s 34ms/step - loss: 49.8161 - mae: 50.3108\n",
            "Epoch 2/150\n",
            "562/562 [==============================] - 19s 34ms/step - loss: 54.0840 - mae: 54.5796\n",
            "Epoch 3/150\n",
            "562/562 [==============================] - 19s 34ms/step - loss: 52.2020 - mae: 52.6976\n",
            "Epoch 4/150\n",
            "562/562 [==============================] - 19s 35ms/step - loss: 46.8109 - mae: 47.3063\n",
            "Epoch 5/150\n",
            "562/562 [==============================] - 19s 34ms/step - loss: 39.5810 - mae: 40.0754\n",
            "Epoch 6/150\n",
            "562/562 [==============================] - 19s 34ms/step - loss: 38.0382 - mae: 38.5319\n",
            "Epoch 7/150\n",
            "562/562 [==============================] - 19s 34ms/step - loss: 36.8624 - mae: 37.3567\n",
            "Epoch 8/150\n",
            "562/562 [==============================] - 19s 34ms/step - loss: 35.1273 - mae: 35.6204\n",
            "Epoch 9/150\n",
            "562/562 [==============================] - 19s 34ms/step - loss: 33.9761 - mae: 34.4690\n",
            "Epoch 10/150\n",
            "562/562 [==============================] - 19s 33ms/step - loss: 34.0186 - mae: 34.5113\n",
            "Epoch 11/150\n",
            "562/562 [==============================] - 19s 33ms/step - loss: 32.3304 - mae: 32.8226\n",
            "Epoch 12/150\n",
            "562/562 [==============================] - 19s 34ms/step - loss: 32.8121 - mae: 33.3048\n",
            "Epoch 13/150\n",
            "562/562 [==============================] - 19s 33ms/step - loss: 32.3278 - mae: 32.8203\n",
            "Epoch 14/150\n",
            "562/562 [==============================] - 19s 34ms/step - loss: 32.0792 - mae: 32.5721\n",
            "Epoch 15/150\n",
            "562/562 [==============================] - 19s 34ms/step - loss: 31.8311 - mae: 32.3238\n",
            "Epoch 16/150\n",
            "562/562 [==============================] - 19s 34ms/step - loss: 31.4671 - mae: 31.9595\n",
            "Epoch 17/150\n",
            "562/562 [==============================] - 19s 34ms/step - loss: 31.8804 - mae: 32.3728\n",
            "Epoch 18/150\n",
            "562/562 [==============================] - 19s 34ms/step - loss: 31.5136 - mae: 32.0059\n",
            "Epoch 19/150\n",
            "562/562 [==============================] - 19s 33ms/step - loss: 31.4681 - mae: 31.9608\n",
            "Epoch 20/150\n",
            "562/562 [==============================] - 19s 34ms/step - loss: 30.2241 - mae: 30.7160\n",
            "Epoch 21/150\n",
            "562/562 [==============================] - 19s 34ms/step - loss: 29.1375 - mae: 29.6291\n",
            "Epoch 22/150\n",
            "562/562 [==============================] - 19s 34ms/step - loss: 29.8721 - mae: 30.3634\n",
            "Epoch 23/150\n",
            "562/562 [==============================] - 19s 34ms/step - loss: 30.6271 - mae: 31.1197\n",
            "Epoch 24/150\n",
            "562/562 [==============================] - 19s 34ms/step - loss: 29.0226 - mae: 29.5144\n",
            "Epoch 25/150\n",
            "562/562 [==============================] - 19s 34ms/step - loss: 30.2742 - mae: 30.7661\n",
            "Epoch 26/150\n",
            "562/562 [==============================] - 19s 34ms/step - loss: 31.3934 - mae: 31.8861\n",
            "Epoch 27/150\n",
            "562/562 [==============================] - 19s 33ms/step - loss: 30.2681 - mae: 30.7604\n",
            "Epoch 28/150\n",
            "562/562 [==============================] - 19s 34ms/step - loss: 28.7477 - mae: 29.2393\n",
            "Epoch 29/150\n",
            "562/562 [==============================] - 19s 33ms/step - loss: 28.5210 - mae: 29.0129\n",
            "Epoch 30/150\n",
            "562/562 [==============================] - 19s 33ms/step - loss: 27.3000 - mae: 27.7917\n",
            "Epoch 31/150\n",
            "562/562 [==============================] - 19s 33ms/step - loss: 28.0451 - mae: 28.5369\n",
            "Epoch 32/150\n",
            "562/562 [==============================] - 19s 33ms/step - loss: 28.5940 - mae: 29.0859\n",
            "Epoch 33/150\n",
            "562/562 [==============================] - 19s 33ms/step - loss: 28.2377 - mae: 28.7295\n",
            "Epoch 34/150\n",
            "562/562 [==============================] - 19s 33ms/step - loss: 26.5630 - mae: 27.0551\n",
            "Epoch 35/150\n",
            "562/562 [==============================] - 19s 33ms/step - loss: 26.9031 - mae: 27.3946\n",
            "Epoch 36/150\n",
            "562/562 [==============================] - 19s 33ms/step - loss: 28.6163 - mae: 29.1082\n",
            "Epoch 37/150\n",
            "562/562 [==============================] - 19s 34ms/step - loss: 28.1191 - mae: 28.6111\n",
            "Epoch 38/150\n",
            "562/562 [==============================] - 19s 34ms/step - loss: 25.3546 - mae: 25.8457\n",
            "Epoch 39/150\n",
            "562/562 [==============================] - 19s 34ms/step - loss: 25.4016 - mae: 25.8925\n",
            "Epoch 40/150\n",
            "562/562 [==============================] - 19s 33ms/step - loss: 25.0042 - mae: 25.4951\n",
            "Epoch 41/150\n",
            "562/562 [==============================] - 19s 33ms/step - loss: 24.5331 - mae: 25.0240\n",
            "Epoch 42/150\n",
            "562/562 [==============================] - 19s 33ms/step - loss: 24.7365 - mae: 25.2277\n",
            "Epoch 43/150\n",
            "562/562 [==============================] - 19s 34ms/step - loss: 24.5391 - mae: 25.0300\n",
            "Epoch 44/150\n",
            "562/562 [==============================] - 19s 34ms/step - loss: 23.8119 - mae: 24.3031\n",
            "Epoch 45/150\n",
            "562/562 [==============================] - 19s 33ms/step - loss: 23.5702 - mae: 24.0612\n",
            "Epoch 46/150\n",
            "562/562 [==============================] - 19s 33ms/step - loss: 24.8054 - mae: 25.2961\n",
            "Epoch 47/150\n",
            "562/562 [==============================] - 19s 34ms/step - loss: 23.1965 - mae: 23.6876\n",
            "Epoch 48/150\n",
            "562/562 [==============================] - 19s 33ms/step - loss: 23.6339 - mae: 24.1246\n",
            "Epoch 49/150\n",
            "562/562 [==============================] - 19s 33ms/step - loss: 22.5375 - mae: 23.0282\n",
            "Epoch 50/150\n",
            "562/562 [==============================] - 19s 33ms/step - loss: 22.3410 - mae: 22.8317\n",
            "Epoch 51/150\n",
            "562/562 [==============================] - 19s 33ms/step - loss: 22.2056 - mae: 22.6961\n",
            "Epoch 52/150\n",
            "562/562 [==============================] - 19s 33ms/step - loss: 21.9374 - mae: 22.4283\n",
            "Epoch 53/150\n",
            "562/562 [==============================] - 19s 34ms/step - loss: 21.9355 - mae: 22.4258\n",
            "Epoch 54/150\n",
            "562/562 [==============================] - 19s 34ms/step - loss: 23.1331 - mae: 23.6236\n",
            "Epoch 55/150\n",
            "562/562 [==============================] - 19s 34ms/step - loss: 21.6192 - mae: 22.1094\n",
            "Epoch 56/150\n",
            "562/562 [==============================] - 19s 34ms/step - loss: 21.6652 - mae: 22.1555\n",
            "Epoch 57/150\n",
            "562/562 [==============================] - 19s 33ms/step - loss: 21.5202 - mae: 22.0103\n",
            "Epoch 58/150\n",
            "562/562 [==============================] - 19s 33ms/step - loss: 21.5082 - mae: 21.9980\n",
            "Epoch 59/150\n",
            "562/562 [==============================] - 19s 33ms/step - loss: 21.3812 - mae: 21.8707\n",
            "Epoch 60/150\n",
            "562/562 [==============================] - 19s 33ms/step - loss: 21.5695 - mae: 22.0594\n",
            "Epoch 61/150\n",
            "562/562 [==============================] - 19s 33ms/step - loss: 21.2767 - mae: 21.7668\n",
            "Epoch 62/150\n",
            "562/562 [==============================] - 19s 33ms/step - loss: 21.3834 - mae: 21.8733\n",
            "Epoch 63/150\n",
            "562/562 [==============================] - 19s 34ms/step - loss: 21.7074 - mae: 22.1974\n",
            "Epoch 64/150\n",
            "562/562 [==============================] - 19s 33ms/step - loss: 21.0872 - mae: 21.5770\n",
            "Epoch 65/150\n",
            "562/562 [==============================] - 19s 33ms/step - loss: 20.9081 - mae: 21.3975\n",
            "Epoch 66/150\n",
            "562/562 [==============================] - 19s 33ms/step - loss: 20.8548 - mae: 21.3446\n",
            "Epoch 67/150\n",
            "562/562 [==============================] - 19s 33ms/step - loss: 20.6661 - mae: 21.1557\n",
            "Epoch 68/150\n",
            "562/562 [==============================] - 19s 33ms/step - loss: 20.8426 - mae: 21.3321\n",
            "Epoch 69/150\n",
            "562/562 [==============================] - 19s 34ms/step - loss: 21.0498 - mae: 21.5399\n",
            "Epoch 70/150\n",
            "562/562 [==============================] - 19s 33ms/step - loss: 21.1263 - mae: 21.6163\n",
            "Epoch 71/150\n",
            "562/562 [==============================] - 19s 33ms/step - loss: 20.9254 - mae: 21.4154\n",
            "Epoch 72/150\n",
            "562/562 [==============================] - 19s 34ms/step - loss: 20.6333 - mae: 21.1232\n",
            "Epoch 73/150\n",
            "562/562 [==============================] - 19s 33ms/step - loss: 21.0122 - mae: 21.5022\n",
            "Epoch 74/150\n",
            "562/562 [==============================] - 19s 33ms/step - loss: 20.6251 - mae: 21.1148\n",
            "Epoch 75/150\n",
            "562/562 [==============================] - 19s 33ms/step - loss: 20.6280 - mae: 21.1175\n",
            "Epoch 76/150\n",
            "562/562 [==============================] - 19s 34ms/step - loss: 20.2844 - mae: 20.7735\n",
            "Epoch 77/150\n",
            "562/562 [==============================] - 19s 33ms/step - loss: 20.6081 - mae: 21.0976\n",
            "Epoch 78/150\n",
            "562/562 [==============================] - 19s 33ms/step - loss: 20.4421 - mae: 20.9316\n",
            "Epoch 79/150\n",
            "562/562 [==============================] - 19s 33ms/step - loss: 20.8719 - mae: 21.3614\n",
            "Epoch 80/150\n",
            "562/562 [==============================] - 19s 33ms/step - loss: 21.0040 - mae: 21.4934\n",
            "Epoch 81/150\n",
            "562/562 [==============================] - 19s 33ms/step - loss: 20.7842 - mae: 21.2735\n",
            "Epoch 82/150\n",
            "562/562 [==============================] - 19s 33ms/step - loss: 20.6587 - mae: 21.1484\n",
            "Epoch 83/150\n",
            "562/562 [==============================] - 19s 33ms/step - loss: 20.7336 - mae: 21.2229\n",
            "Epoch 84/150\n",
            "562/562 [==============================] - 19s 33ms/step - loss: 20.2334 - mae: 20.7227\n",
            "Epoch 85/150\n",
            "562/562 [==============================] - 19s 34ms/step - loss: 20.4002 - mae: 20.8899\n",
            "Epoch 86/150\n",
            "562/562 [==============================] - 19s 34ms/step - loss: 20.3924 - mae: 20.8817\n",
            "Epoch 87/150\n",
            "562/562 [==============================] - 19s 34ms/step - loss: 20.4688 - mae: 20.9585\n",
            "Epoch 88/150\n",
            "562/562 [==============================] - 24s 42ms/step - loss: 20.2035 - mae: 20.6926\n",
            "Epoch 89/150\n",
            "562/562 [==============================] - 19s 34ms/step - loss: 20.4555 - mae: 20.9452\n",
            "Epoch 90/150\n",
            "562/562 [==============================] - 19s 34ms/step - loss: 20.3292 - mae: 20.8184\n",
            "Epoch 91/150\n",
            "562/562 [==============================] - 19s 34ms/step - loss: 21.1053 - mae: 21.5949\n",
            "Epoch 92/150\n",
            "562/562 [==============================] - 19s 34ms/step - loss: 20.7805 - mae: 21.2701\n",
            "Epoch 93/150\n",
            "562/562 [==============================] - 19s 34ms/step - loss: 20.4704 - mae: 20.9601\n",
            "Epoch 94/150\n",
            "562/562 [==============================] - 19s 34ms/step - loss: 20.2547 - mae: 20.7439\n",
            "Epoch 95/150\n",
            "562/562 [==============================] - 19s 34ms/step - loss: 20.1150 - mae: 20.6044\n",
            "Epoch 96/150\n",
            "562/562 [==============================] - 19s 34ms/step - loss: 20.3130 - mae: 20.8021\n",
            "Epoch 97/150\n",
            "562/562 [==============================] - 19s 34ms/step - loss: 20.1254 - mae: 20.6146\n",
            "Epoch 98/150\n",
            "562/562 [==============================] - 19s 34ms/step - loss: 20.4418 - mae: 20.9311\n",
            "Epoch 99/150\n",
            "562/562 [==============================] - 19s 34ms/step - loss: 20.2324 - mae: 20.7216\n",
            "Epoch 100/150\n",
            "562/562 [==============================] - 19s 34ms/step - loss: 19.9286 - mae: 20.4179\n",
            "Epoch 101/150\n",
            "562/562 [==============================] - 19s 34ms/step - loss: 19.9863 - mae: 20.4753\n",
            "Epoch 102/150\n",
            "562/562 [==============================] - 19s 34ms/step - loss: 19.9678 - mae: 20.4570\n",
            "Epoch 103/150\n",
            "562/562 [==============================] - 19s 34ms/step - loss: 19.7150 - mae: 20.2040\n",
            "Epoch 104/150\n",
            "562/562 [==============================] - 19s 34ms/step - loss: 20.1030 - mae: 20.5924\n",
            "Epoch 105/150\n",
            "562/562 [==============================] - 19s 34ms/step - loss: 19.8833 - mae: 20.3724\n",
            "Epoch 106/150\n",
            "562/562 [==============================] - 19s 34ms/step - loss: 19.4957 - mae: 19.9845\n",
            "Epoch 107/150\n",
            "562/562 [==============================] - 19s 34ms/step - loss: 19.6598 - mae: 20.1482\n",
            "Epoch 108/150\n",
            "562/562 [==============================] - 19s 34ms/step - loss: 20.2799 - mae: 20.7692\n",
            "Epoch 109/150\n",
            "562/562 [==============================] - 19s 34ms/step - loss: 19.9373 - mae: 20.4264\n",
            "Epoch 110/150\n",
            "562/562 [==============================] - 19s 34ms/step - loss: 19.8980 - mae: 20.3864\n",
            "Epoch 111/150\n",
            "562/562 [==============================] - 19s 34ms/step - loss: 19.7801 - mae: 20.2693\n",
            "Epoch 112/150\n",
            "562/562 [==============================] - 19s 34ms/step - loss: 19.8291 - mae: 20.3177\n",
            "Epoch 113/150\n",
            "562/562 [==============================] - 19s 34ms/step - loss: 19.8097 - mae: 20.2986\n",
            "Epoch 114/150\n",
            "562/562 [==============================] - 19s 34ms/step - loss: 20.0029 - mae: 20.4918\n",
            "Epoch 115/150\n",
            "562/562 [==============================] - 19s 34ms/step - loss: 19.6555 - mae: 20.1449\n",
            "Epoch 116/150\n",
            "562/562 [==============================] - 19s 34ms/step - loss: 19.7909 - mae: 20.2797\n",
            "Epoch 117/150\n",
            "562/562 [==============================] - 19s 34ms/step - loss: 20.1155 - mae: 20.6047\n",
            "Epoch 118/150\n",
            "562/562 [==============================] - 19s 34ms/step - loss: 19.7228 - mae: 20.2117\n",
            "Epoch 119/150\n",
            "562/562 [==============================] - 19s 34ms/step - loss: 19.8477 - mae: 20.3364\n",
            "Epoch 120/150\n",
            "562/562 [==============================] - 24s 42ms/step - loss: 19.6728 - mae: 20.1616\n",
            "Epoch 121/150\n",
            "562/562 [==============================] - 19s 34ms/step - loss: 19.6303 - mae: 20.1190\n",
            "Epoch 122/150\n",
            "562/562 [==============================] - 19s 34ms/step - loss: 19.6750 - mae: 20.1638\n",
            "Epoch 123/150\n",
            "562/562 [==============================] - 19s 34ms/step - loss: 19.5860 - mae: 20.0746\n",
            "Epoch 124/150\n",
            "562/562 [==============================] - 19s 34ms/step - loss: 19.7457 - mae: 20.2341\n",
            "Epoch 125/150\n",
            "562/562 [==============================] - 19s 34ms/step - loss: 19.7124 - mae: 20.2016\n",
            "Epoch 126/150\n",
            "562/562 [==============================] - 19s 34ms/step - loss: 19.8701 - mae: 20.3589\n",
            "Epoch 127/150\n",
            "562/562 [==============================] - 19s 34ms/step - loss: 20.0160 - mae: 20.5048\n",
            "Epoch 128/150\n",
            "562/562 [==============================] - 19s 34ms/step - loss: 19.7551 - mae: 20.2443\n",
            "Epoch 129/150\n",
            "562/562 [==============================] - 19s 34ms/step - loss: 19.7280 - mae: 20.2169\n",
            "Epoch 130/150\n",
            "562/562 [==============================] - 19s 34ms/step - loss: 19.6096 - mae: 20.0982\n",
            "Epoch 131/150\n",
            "562/562 [==============================] - 19s 34ms/step - loss: 19.6869 - mae: 20.1756\n",
            "Epoch 132/150\n",
            "562/562 [==============================] - 19s 34ms/step - loss: 19.6437 - mae: 20.1326\n",
            "Epoch 133/150\n",
            "562/562 [==============================] - 19s 34ms/step - loss: 19.6185 - mae: 20.1071\n",
            "Epoch 134/150\n",
            "562/562 [==============================] - 19s 34ms/step - loss: 19.6281 - mae: 20.1167\n",
            "Epoch 135/150\n",
            "562/562 [==============================] - 19s 34ms/step - loss: 19.6950 - mae: 20.1838\n",
            "Epoch 136/150\n",
            "562/562 [==============================] - 19s 34ms/step - loss: 19.6305 - mae: 20.1193\n",
            "Epoch 137/150\n",
            "562/562 [==============================] - 19s 34ms/step - loss: 19.6258 - mae: 20.1147\n",
            "Epoch 138/150\n",
            "562/562 [==============================] - 19s 34ms/step - loss: 19.5240 - mae: 20.0128\n",
            "Epoch 139/150\n",
            "562/562 [==============================] - 19s 34ms/step - loss: 19.9803 - mae: 20.4694\n",
            "Epoch 140/150\n",
            "562/562 [==============================] - 19s 34ms/step - loss: 19.6628 - mae: 20.1521\n",
            "Epoch 141/150\n",
            "562/562 [==============================] - 19s 34ms/step - loss: 19.6432 - mae: 20.1322\n",
            "Epoch 142/150\n",
            "562/562 [==============================] - 19s 34ms/step - loss: 19.5017 - mae: 19.9901\n",
            "Epoch 143/150\n",
            "562/562 [==============================] - 19s 34ms/step - loss: 19.3128 - mae: 19.8015\n",
            "Epoch 144/150\n",
            "562/562 [==============================] - 19s 34ms/step - loss: 19.7925 - mae: 20.2811\n",
            "Epoch 145/150\n",
            "562/562 [==============================] - 19s 34ms/step - loss: 19.6207 - mae: 20.1100\n",
            "Epoch 146/150\n",
            "562/562 [==============================] - 19s 34ms/step - loss: 19.3990 - mae: 19.8879\n",
            "Epoch 147/150\n",
            "562/562 [==============================] - 19s 34ms/step - loss: 19.2372 - mae: 19.7256\n",
            "Epoch 148/150\n",
            "562/562 [==============================] - 19s 34ms/step - loss: 19.5857 - mae: 20.0737\n",
            "Epoch 149/150\n",
            "562/562 [==============================] - 19s 34ms/step - loss: 19.6603 - mae: 20.1497\n",
            "Epoch 150/150\n",
            "562/562 [==============================] - 19s 34ms/step - loss: 19.4967 - mae: 19.9853\n"
          ],
          "name": "stdout"
        }
      ]
    },
    {
      "cell_type": "code",
      "metadata": {
        "id": "eKRr1l93lOVO"
      },
      "source": [
        "rnn_forecast = model_forecast(model,series[...,np.newaxis],window_size)\n",
        "rnn_forecast = rnn_forecast[split_time-window_size:-1,-1,0]"
      ],
      "execution_count": null,
      "outputs": []
    },
    {
      "cell_type": "code",
      "metadata": {
        "colab": {
          "base_uri": "https://localhost:8080/",
          "height": 388
        },
        "id": "enuOD5ayYI-r",
        "outputId": "b537ebad-355c-4c1d-af8d-a61f56b09e1b"
      },
      "source": [
        "plt.figure(figsize=(10,6))\n",
        "plot_series(time_valid,x_valid)\n",
        "plot_series(time_valid,rnn_forecast)"
      ],
      "execution_count": null,
      "outputs": [
        {
          "output_type": "display_data",
          "data": {
            "image/png": "[encoded data removed]",
            "text/plain": [
              "<Figure size 720x432 with 1 Axes>"
            ]
          },
          "metadata": {
            "tags": [],
            "needs_background": "light"
          }
        }
      ]
    },
    {
      "cell_type": "code",
      "metadata": {
        "colab": {
          "base_uri": "https://localhost:8080/"
        },
        "id": "blUtI4AplnH_",
        "outputId": "ec696270-644a-4b6c-87f4-34f21ff8acbd"
      },
      "source": [
        "tf.keras.metrics.mean_absolute_error(x_valid,rnn_forecast).numpy()"
      ],
      "execution_count": null,
      "outputs": [
        {
          "output_type": "execute_result",
          "data": {
            "text/plain": [
              "77.384605"
            ]
          },
          "metadata": {
            "tags": []
          },
          "execution_count": 109
        }
      ]
    },
    {
      "cell_type": "code",
      "metadata": {
        "id": "xjl7i0gdmAz2"
      },
      "source": [
        ""
      ],
      "execution_count": null,
      "outputs": []
    }
  ]
}